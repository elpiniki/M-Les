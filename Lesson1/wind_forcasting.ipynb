{
 "cells": [
  {
   "cell_type": "code",
   "execution_count": 1,
   "metadata": {
    "collapsed": true
   },
   "outputs": [],
   "source": [
    "import pandas as pd\n",
    "import numpy as np\n",
    "import matplotlib.pyplot as plt\n",
    "\n",
    "#machine leaning libraries\n",
    "import sklearn\n",
    "from sklearn.model_selection import train_test_split\n",
    "from sklearn.linear_model import LinearRegression\n",
    "from sklearn.tree import DecisionTreeRegressor\n",
    "from sklearn.ensemble import RandomForestRegressor\n",
    "from sklearn.svm import SVR\n",
    "\n",
    "#machine leanring input data transform libraries\n",
    "from sklearn.preprocessing import StandardScaler\n",
    "from sklearn.preprocessing import PolynomialFeatures\n",
    "\n",
    "#machine leanirng validation libraries\n",
    "from sklearn.model_selection import cross_val_score\n",
    "from sklearn.metrics import mean_squared_error\n",
    "from sklearn.metrics import mean_absolute_error\n",
    "\n",
    "\n",
    "#function for reading as a dataframe\n",
    "def datareader(csvfile):\n",
    "    data = pd.read_csv(csvfile)\n",
    "    return data"
   ]
  },
  {
   "cell_type": "code",
   "execution_count": 2,
   "metadata": {
    "collapsed": false
   },
   "outputs": [],
   "source": [
    "#read the data\n",
    "winddata = datareader(\"windDatahr_month.csv\")"
   ]
  },
  {
   "cell_type": "code",
   "execution_count": 3,
   "metadata": {
    "collapsed": true
   },
   "outputs": [],
   "source": [
    "#split the data into 80% train and 20% test\n",
    "train_set, test_set = train_test_split(winddata, test_size=0.2, random_state=42)"
   ]
  },
  {
   "cell_type": "code",
   "execution_count": 4,
   "metadata": {
    "collapsed": false
   },
   "outputs": [],
   "source": [
    "#keep data you need for each input \n",
    "x_train_set = train_set.drop(\"Energy_kWh\", axis=1)\n",
    "x_test_set = test_set.drop(\"Energy_kWh\", axis=1)\n",
    "y_train_set = train_set[\"Energy_kWh\"].copy()\n",
    "y_test_set = test_set[\"Energy_kWh\"].copy()\n"
   ]
  },
  {
   "cell_type": "code",
   "execution_count": 5,
   "metadata": {
    "collapsed": false
   },
   "outputs": [],
   "source": [
    "#normalize the data\n",
    "scaler = StandardScaler()\n",
    "scaler.fit(x_train_set)\n",
    "x_train_set = scaler.transform(x_train_set)\n",
    "scaler.fit(x_test_set)\n",
    "x_test_set = scaler.transform(x_test_set)"
   ]
  },
  {
   "cell_type": "code",
   "execution_count": 6,
   "metadata": {
    "collapsed": false
   },
   "outputs": [
    {
     "name": "stdout",
     "output_type": "stream",
     "text": [
      "Mean Squared Error: 2152.20148319\n",
      "Mean Absolute Error: 1649.63656042\n"
     ]
    }
   ],
   "source": [
    "#linear regression model\n",
    "lin_reg = LinearRegression()\n",
    "lin_reg.fit(x_train_set, y_train_set)\n",
    "y_predictions = lin_reg.predict(x_test_set)\n",
    "\n",
    "#linear regression scores\n",
    "lin_mse = mean_squared_error(y_test_set, y_predictions)\n",
    "lin_rmse = np.sqrt(lin_mse)\n",
    "print \"Mean Squared Error: %s\" %lin_rmse\n",
    "lin_mae = mean_absolute_error(y_test_set, y_predictions)\n",
    "print \"Mean Absolute Error: %s\" %lin_mae"
   ]
  },
  {
   "cell_type": "code",
   "execution_count": 7,
   "metadata": {
    "collapsed": false
   },
   "outputs": [],
   "source": [
    "#plot results\n",
    "plt.plot(y_test_set, c='b', label='y_test_set')\n",
    "plt.plot(y_predictions, c='g', label='y_predictions')\n",
    "plt.legend(loc='upper left')\n",
    "plt.xlabel('Data points')\n",
    "plt.ylabel('Energy (kWh)')\n",
    "plt.title(\"Linear Regression\")\n",
    "plt.ylim((-3000, 18000))\n",
    "plt.xlim((0,150))\n",
    "plt.savefig(\"LinPLot\")\n",
    "plt.close()"
   ]
  },
  {
   "cell_type": "code",
   "execution_count": 8,
   "metadata": {
    "collapsed": false
   },
   "outputs": [
    {
     "name": "stdout",
     "output_type": "stream",
     "text": [
      "Mean Squared Error: 1802.9848968\n",
      "Mean Absolute Error: 1355.82875862\n"
     ]
    }
   ],
   "source": [
    "#Decision Tree model\n",
    "tree_reg = DecisionTreeRegressor(random_state=42)\n",
    "tree_reg.fit(x_train_set, y_train_set)\n",
    "y_predictions = tree_reg.predict(x_test_set)\n",
    "\n",
    "#Decision Tree regression scores\n",
    "tree_mse = mean_squared_error(y_test_set, y_predictions)\n",
    "tree_rmse = np.sqrt(tree_mse)\n",
    "print \"Mean Squared Error: %s\" %tree_rmse\n",
    "tree_mae = mean_absolute_error(y_test_set, y_predictions)\n",
    "print \"Mean Absolute Error: %s\" %tree_mae"
   ]
  },
  {
   "cell_type": "code",
   "execution_count": null,
   "metadata": {
    "collapsed": true
   },
   "outputs": [],
   "source": [
    "#plot results\n",
    "plt.plot(y_test_set, c='b', label='y_test_set')\n",
    "plt.plot(y_predictions, c='g', label='y_predictions')\n",
    "plt.legend(loc='upper left')\n",
    "plt.xlabel('Data points')\n",
    "plt.ylabel('Energy (kWh)')\n",
    "plt.title(\"Decision Tree Regression\")\n",
    "plt.ylim((-3000, 18000))\n",
    "plt.xlim((0,150))\n",
    "plt.savefig(\"treePLot\")\n",
    "plt.close()"
   ]
  },
  {
   "cell_type": "code",
   "execution_count": null,
   "metadata": {
    "collapsed": false
   },
   "outputs": [],
   "source": [
    "#Random Forest model\n",
    "forest_reg = RandomForestRegressor(random_state=42)\n",
    "forest_reg.fit(x_train_set, y_train_set)\n",
    "y_predictions = forest_reg.predict(x_test_set)\n",
    "\n",
    "#Random Forest scores\n",
    "forest_mse = mean_squared_error(y_test_set, y_predictions)\n",
    "forest_rmse = np.sqrt(forest_mse)\n",
    "print \"Mean Squared Error: %s\" %forest_rmse\n",
    "forest_mae = mean_absolute_error(y_test_set, y_predictions)\n",
    "print \"Mean Absolute Error: %s\" %forest_mae"
   ]
  },
  {
   "cell_type": "code",
   "execution_count": null,
   "metadata": {
    "collapsed": true
   },
   "outputs": [],
   "source": [
    "#plot results\n",
    "plt.plot(y_test_set, c='b', label='y_test_set')\n",
    "plt.plot(y_predictions, c='g', label='y_predictions')\n",
    "plt.legend(loc='upper left')\n",
    "plt.xlabel('Data points')\n",
    "plt.ylabel('Energy (kWh)')\n",
    "plt.title(\"Random Forest Regression\")\n",
    "plt.ylim((-3000, 18000))\n",
    "plt.xlim((0,150))\n",
    "plt.savefig(\"forestPLot\")\n",
    "plt.close()"
   ]
  },
  {
   "cell_type": "code",
   "execution_count": null,
   "metadata": {
    "collapsed": false
   },
   "outputs": [],
   "source": [
    "#Support Vector Machine model\n",
    "svm_reg = SVR(kernel=\"linear\")\n",
    "svm_reg.fit(x_train_set, y_train_set)\n",
    "y_predictions = svm_reg.predict(x_test_set)\n",
    "\n",
    "#Support Vector Machine scores\n",
    "svm_mse = mean_squared_error(y_test_set, y_predictions)\n",
    "svm_rmse = np.sqrt(svm_mse)\n",
    "print \"Mean Squared Error: %s\" %svm_rmse\n",
    "svm_mae = mean_absolute_error(y_test_set, y_predictions)\n",
    "print \"Mean Absolute Error: %s\" %svm_mae"
   ]
  },
  {
   "cell_type": "code",
   "execution_count": null,
   "metadata": {
    "collapsed": true
   },
   "outputs": [],
   "source": [
    "#plot results\n",
    "plt.plot(y_test_set, c='b', label='y_test_set')\n",
    "plt.plot(y_predictions, c='g', label='y_predictions')\n",
    "plt.legend(loc='upper left')\n",
    "plt.xlabel('Data points')\n",
    "plt.ylabel('Energy (kWh)')\n",
    "plt.title(\"Support Vector Machine Regression\")\n",
    "plt.ylim((-3000, 18000))\n",
    "plt.xlim((0,150))\n",
    "plt.savefig(\"svmPLot\")\n",
    "plt.close()"
   ]
  },
  {
   "cell_type": "code",
   "execution_count": null,
   "metadata": {
    "collapsed": false
   },
   "outputs": [],
   "source": [
    "# PolynomialFeatures (prepreprocessing) \n",
    "poly = PolynomialFeatures(degree=3)\n",
    "X_train = poly.fit_transform(x_train_set)\n",
    "X_test = poly.fit_transform(x_test_set)\n",
    "\n",
    "#linear regression model\n",
    "linpoly = LinearRegression()\n",
    "linpoly.fit(x_train_set, y_train_set)\n",
    "y_predictions = linpoly.predict(x_test_set)\n",
    "\n",
    "#linear regression scores\n",
    "linpoly_mse = mean_squared_error(y_test_set, y_predictions)\n",
    "linpoly_rmse = np.sqrt(linpoly_mse)\n",
    "print \"Mean Squared Error: %s\" %linpoly_rmse\n",
    "linpoly_mae = mean_absolute_error(y_test_set, y_predictions)\n",
    "print \"Mean Absolute Error: %s\" %linpoly_mae"
   ]
  },
  {
   "cell_type": "code",
   "execution_count": null,
   "metadata": {
    "collapsed": true
   },
   "outputs": [],
   "source": [
    "#plot results\n",
    "plt.plot(y_test_set, c='b', label='y_test_set')\n",
    "plt.plot(y_predictions, c='g', label='y_predictions')\n",
    "plt.legend(loc='upper left')\n",
    "plt.xlabel('Data points')\n",
    "plt.ylabel('Energy (kWh)')\n",
    "plt.title(\"Linear Regression with poly features\")\n",
    "plt.ylim((-3000, 18000))\n",
    "plt.xlim((0,150))\n",
    "plt.savefig(\"linpolyPLot\")\n",
    "plt.close()"
   ]
  },
  {
   "cell_type": "code",
   "execution_count": null,
   "metadata": {
    "collapsed": false
   },
   "outputs": [],
   "source": [
    "scores = cross_val_score(forest_reg, x_test_set, y_test_set,\n",
    "                         scoring=\"neg_mean_squared_error\", cv=10)\n",
    "#scores = cross_val_score(forest_reg, x_test_set, y_test_set, cv=10)\n",
    "forest_rmse_scores = np.sqrt(-scores)"
   ]
  },
  {
   "cell_type": "code",
   "execution_count": null,
   "metadata": {
    "collapsed": false,
    "scrolled": true
   },
   "outputs": [],
   "source": [
    "def display_scores(scores):\n",
    "    print(\"Scores:\", scores)\n",
    "    print(\"Mean:\", scores.mean())\n",
    "    print(\"Standard deviation:\", scores.std())\n",
    "\n",
    "display_scores(forest_rmse_scores)"
   ]
  }
 ],
 "metadata": {
  "kernelspec": {
   "display_name": "Python 2",
   "language": "python",
   "name": "python2"
  },
  "language_info": {
   "codemirror_mode": {
    "name": "ipython",
    "version": 2
   },
   "file_extension": ".py",
   "mimetype": "text/x-python",
   "name": "python",
   "nbconvert_exporter": "python",
   "pygments_lexer": "ipython2",
   "version": "2.7.10"
  }
 },
 "nbformat": 4,
 "nbformat_minor": 0
}
